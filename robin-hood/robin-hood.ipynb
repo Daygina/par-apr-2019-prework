{
 "cells": [
  {
   "cell_type": "markdown",
   "metadata": {},
   "source": [
    "# Robin Hood:\n",
    "We are in a competition to win the archery contest in Sherwood. With our bow and arrows we shoot on a target and try to hit as close as possible to the center.\n",
    "\n",
    "The center of the target is represented by the values (0, 0) on the coordinate axes.\n",
    "\n",
    "![](images/arrows.jpg)\n",
    "\n",
    "## Goals:\n",
    "* data structures: lists, sets, tuples\n",
    "* logical operators: if-elif-else\n",
    "* loop: while/for\n",
    "* minimum (optional sorting)\n",
    "\n",
    "## Description:\n",
    "In the 2-dimensional space, a point can be defined by a pair of values that correspond to the horizontal coordinate (x) and the vertical coordinate (y). The space can be divided into 4 zones (quadrants): Q1, Q2, Q3, Q4. Whose single point of union is the point (0, 0).\n",
    "\n",
    "If a point is in Q1 both its x coordinate and the y are positive. I leave a link to wikipedia to familiarize yourself with these quadrants.\n",
    "\n",
    "https://en.wikipedia.org/wiki/Cartesian_coordinate_system\n",
    "\n",
    "https://en.wikipedia.org/wiki/Euclidean_distance\n",
    "\n",
    "## Shots\n",
    "```\n",
    "points = [(4, 5), (-0, 2), (4, 7), (1, -3), (3, -2), (4, 5),\n",
    "          (3, 2), (5, 7), (-5, 7), (2, 2), (-4, 5), (0, -2),\n",
    "          (-4, 7), (-1, 3), (-3, 2), (-4, -5), (-3, 2),\n",
    "          (5, 7), (5, 7), (2, 2), (9, 9), (-8, -9)]\n",
    "```\n",
    "\n",
    "## Tasks\n",
    "1. Robin Hood is famous for hitting an arrow with another arrow. Did you get it?\n",
    "2. Calculate how many arrows have fallen in each quadrant.\n",
    "3. Find the point closest to the center. Calculate its distance to the center. \n",
    "4. If the target has a radius of 9, calculate the number of arrows that must be picked up in the forest."
   ]
  },
  {
   "cell_type": "code",
   "execution_count": 13,
   "metadata": {},
   "outputs": [
    {
     "name": "stdout",
     "output_type": "stream",
     "text": [
      "ind of (0,-2) 11\n",
      "ind of (-0, 2) 1\n",
      "{(-4, 5), (4, 7), (3, 2), (4, 5), (-1, 3), (5, 7), (9, 9), (3, -2), (-5, 7), (-3, 2), (0, -2), (-4, -5), (2, 2), (-8, -9), (1, -3), (-4, 7), (0, 2)}\n",
      "17\n",
      "22\n",
      "(-4, 5) 1\n",
      "(4, 7) 1\n",
      "(3, 2) 1\n",
      "(4, 5) 2\n",
      "Cible (4, 5) nombre de fois 2\n",
      "(-1, 3) 1\n",
      "(5, 7) 3\n",
      "Cible (5, 7) nombre de fois 3\n",
      "(9, 9) 1\n",
      "(3, -2) 1\n",
      "(-5, 7) 1\n",
      "(-3, 2) 2\n",
      "Cible (-3, 2) nombre de fois 2\n",
      "(0, -2) 1\n",
      "(-4, -5) 1\n",
      "(2, 2) 2\n",
      "Cible (2, 2) nombre de fois 2\n",
      "(-8, -9) 1\n",
      "(1, -3) 1\n",
      "(-4, 7) 1\n",
      "(0, 2) 1\n"
     ]
    }
   ],
   "source": [
    "# Variables\n",
    "\n",
    "points = [(4, 5), (-0, 2), (4, 7), (1, -3), (3, -2), (4, 5),\n",
    "          (3, 2), (5, 7), (-5, 7), (2, 2), (-4, 5), (0, -2),\n",
    "          (-4, 7), (-1, 3), (-3, 2), (-4, -5), (-3, 2),\n",
    "          (5, 7), (5, 7), (2, 2), (9, 9), (-8, -9)]\n",
    "# 1. Robin Hood is famous for hitting an arrow with another arrow. Did you get it?\n",
    "ind=points.index((0,-2))\n",
    "print(\"ind of (0,-2)\", ind)\n",
    "\n",
    "indx=points.index((-0, 2))\n",
    "print(\"ind of (-0, 2)\", indx)\n",
    "\n",
    "msdp=set(points)\n",
    "print(msdp)\n",
    "print(len(msdp))\n",
    "print(len(points))\n",
    "\n",
    "for i in msdp:\n",
    "    count = points.count(i)   \n",
    "    print(i, count)\n",
    "    if count>1:\n",
    "        print(\"Cible\", i, \"nombre de fois\", count)\n"
   ]
  },
  {
   "cell_type": "code",
   "execution_count": 14,
   "metadata": {},
   "outputs": [
    {
     "name": "stdout",
     "output_type": "stream",
     "text": [
      "2 Q1 (4, 7) 1\n",
      "6 Q1 (3, 2) 1\n",
      "0 Q1 (4, 5) 2\n",
      "7 Q1 (5, 7) 3\n",
      "20 Q1 (9, 9) 1\n",
      "9 Q1 (2, 2) 2\n",
      "1 Q1 (0, 2) 1\n",
      "Number of arrows in quadrant1 = 11\n",
      "4 Q2 (3, -2) 1\n",
      "3 Q2 (1, -3) 1\n",
      "Number of arrows in quadrant2 = 2\n",
      "15 Q3 (-4, -5) 1\n",
      "21 Q3 (-8, -9) 1\n",
      "Number of arrows in quadrant3 = 2\n",
      "10 Q4 (-4, 5) 1\n",
      "13 Q4 (-1, 3) 1\n",
      "8 Q4 (-5, 7) 1\n",
      "14 Q4 (-3, 2) 2\n",
      "12 Q4 (-4, 7) 1\n",
      "1 Q4 (0, 2) 1\n",
      "Number of arrows in quadrant4 = 7\n",
      "[(-8, -9), (-5, 7), (-4, -5), (-4, 5), (-4, 7), (-3, 2), (-1, 3), (0, -2), (0, 2), (1, -3), (2, 2), (3, -2), (3, 2), (4, 5), (4, 7), (5, 7), (9, 9)]\n"
     ]
    }
   ],
   "source": [
    "# 2. Calculate how many arrows have fallen in each quadrant.\n",
    "arrows1=0\n",
    "arrows2=0\n",
    "arrows3=0\n",
    "arrows4=0\n",
    "sort=sorted(msdp)\n",
    "for a in msdp:\n",
    "    print\n",
    "    if a[0]>=0 and a[1]>=0:\n",
    "        count = points.count(a)   \n",
    "        arrows1+=count\n",
    "        index=points.index(a)\n",
    "        print(index,\"Q1\", a, count)\n",
    "print(\"Number of arrows in quadrant1 =\", arrows1)\n",
    "\n",
    "for a in msdp:\n",
    "    if a[0]>0 and a[1]<0:\n",
    "        count = points.count(a)   \n",
    "        arrows2+=count\n",
    "        index=points.index(a)\n",
    "        print(index, \"Q2\", a, count)\n",
    "print(\"Number of arrows in quadrant2 =\", arrows2)\n",
    "\n",
    "for a in msdp:\n",
    "    if a[0]<0 and a[1]<=0:\n",
    "        count = points.count(a)   \n",
    "        arrows3+=count\n",
    "        index=points.index(a)\n",
    "        print(index, \"Q3\", a, count)\n",
    "print(\"Number of arrows in quadrant3 =\", arrows3)\n",
    "\n",
    "for a in msdp:\n",
    "    if a[0]<=0 and a[1]>0:\n",
    "        count = points.count(a)   \n",
    "        arrows4+=count\n",
    "        index=points.index(a)\n",
    "        \n",
    "        \n",
    "        print(index,\"Q4\", a, count)     \n",
    "print(\"Number of arrows in quadrant4 =\", arrows4)\n",
    "print(sort)"
   ]
  },
  {
   "cell_type": "code",
   "execution_count": null,
   "metadata": {},
   "outputs": [],
   "source": [
    "\n"
   ]
  },
  {
   "cell_type": "code",
   "execution_count": 45,
   "metadata": {},
   "outputs": [
    {
     "name": "stdout",
     "output_type": "stream",
     "text": [
      "x -4 y 5 =distance 6.4031242374328485\n",
      "x 4 y 7 =distance 8.06225774829855\n",
      "x 3 y 2 =distance 3.605551275463989\n",
      "x 4 y 5 =distance 6.4031242374328485\n",
      "x -1 y 3 =distance 3.1622776601683795\n",
      "x 5 y 7 =distance 8.602325267042627\n",
      "x 9 y 9 =distance 12.727922061357855\n",
      "x 3 y -2 =distance 3.605551275463989\n",
      "x -5 y 7 =distance 8.602325267042627\n",
      "x -3 y 2 =distance 3.605551275463989\n",
      "x 0 y -2 =distance 2.0\n",
      "x -4 y -5 =distance 6.4031242374328485\n",
      "x 2 y 2 =distance 2.8284271247461903\n",
      "x -8 y -9 =distance 12.041594578792296\n",
      "x 1 y -3 =distance 3.1622776601683795\n",
      "x -4 y 7 =distance 8.06225774829855\n",
      "x 0 y 2 =distance 2.0\n"
     ]
    },
    {
     "ename": "TypeError",
     "evalue": "'float' object is not iterable",
     "output_type": "error",
     "traceback": [
      "\u001b[0;31m---------------------------------------------------------------------------\u001b[0m",
      "\u001b[0;31mTypeError\u001b[0m                                 Traceback (most recent call last)",
      "\u001b[0;32m<ipython-input-45-6c435fb99259>\u001b[0m in \u001b[0;36m<module>\u001b[0;34m\u001b[0m\n\u001b[1;32m     15\u001b[0m     \u001b[0mprint\u001b[0m\u001b[0;34m(\u001b[0m\u001b[0;34m\"x\"\u001b[0m\u001b[0;34m,\u001b[0m\u001b[0mx\u001b[0m\u001b[0;34m,\u001b[0m \u001b[0;34m\"y\"\u001b[0m\u001b[0;34m,\u001b[0m \u001b[0my\u001b[0m\u001b[0;34m,\u001b[0m \u001b[0;34m\"=distance\"\u001b[0m\u001b[0;34m,\u001b[0m\u001b[0mdistance\u001b[0m\u001b[0;34m)\u001b[0m\u001b[0;34m\u001b[0m\u001b[0;34m\u001b[0m\u001b[0m\n\u001b[1;32m     16\u001b[0m \u001b[0;34m\u001b[0m\u001b[0m\n\u001b[0;32m---> 17\u001b[0;31m \u001b[0mmin_distance\u001b[0m\u001b[0;34m=\u001b[0m\u001b[0mmin\u001b[0m\u001b[0;34m(\u001b[0m\u001b[0mdistance\u001b[0m\u001b[0;34m)\u001b[0m\u001b[0;34m\u001b[0m\u001b[0;34m\u001b[0m\u001b[0m\n\u001b[0m\u001b[1;32m     18\u001b[0m \u001b[0;34m\u001b[0m\u001b[0m\n\u001b[1;32m     19\u001b[0m \u001b[0mprint\u001b[0m\u001b[0;34m(\u001b[0m\u001b[0;34m\"x,y =\"\u001b[0m\u001b[0;34m,\u001b[0m \u001b[0mx\u001b[0m\u001b[0;34m,\u001b[0m \u001b[0my\u001b[0m\u001b[0;34m,\u001b[0m \u001b[0mmin_distance\u001b[0m\u001b[0;34m)\u001b[0m\u001b[0;34m\u001b[0m\u001b[0;34m\u001b[0m\u001b[0m\n",
      "\u001b[0;31mTypeError\u001b[0m: 'float' object is not iterable"
     ]
    }
   ],
   "source": [
    "# 3. Find the point closest to the center. Calculate its distance to the center\n",
    "# Defining a function that calculates the distance to the center can help.\n",
    "x=0\n",
    "y=0\n",
    "min_distance=0\n",
    "\n",
    "def hypotenuse(x,y):\n",
    "    distance=(x**2+y**2)**0.5\n",
    "    \n",
    "    return (distance)\n",
    "\n",
    "for (x,y) in msdp:\n",
    "    distance =hypotenuse(x,y)\n",
    "    \n",
    "    print(\"x\",x, \"y\", y, \"=distance\",distance)\n",
    "\n",
    "min_distance=min(distance)\n",
    "    \n",
    "print(\"x,y =\", x, y, min_distance)\n",
    "\n",
    "\n",
    "    \n"
   ]
  },
  {
   "cell_type": "code",
   "execution_count": 18,
   "metadata": {},
   "outputs": [
    {
     "name": "stdout",
     "output_type": "stream",
     "text": [
      "254\n"
     ]
    }
   ],
   "source": [
    "# 4. If the target has a radius of 9, calculate the number of arrows that \n",
    "# must be picked up in the forest.\n",
    "\n",
    "r=9\n",
    "arrows_qty= 3.14159265359*r**2\n",
    "print(int(arrows_qty))\n"
   ]
  },
  {
   "cell_type": "code",
   "execution_count": null,
   "metadata": {},
   "outputs": [],
   "source": []
  }
 ],
 "metadata": {
  "kernelspec": {
   "display_name": "Python 3",
   "language": "python",
   "name": "python3"
  },
  "language_info": {
   "codemirror_mode": {
    "name": "ipython",
    "version": 3
   },
   "file_extension": ".py",
   "mimetype": "text/x-python",
   "name": "python",
   "nbconvert_exporter": "python",
   "pygments_lexer": "ipython3",
   "version": "3.6.7"
  }
 },
 "nbformat": 4,
 "nbformat_minor": 2
}
