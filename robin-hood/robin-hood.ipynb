{
 "cells": [
  {
   "cell_type": "markdown",
   "metadata": {},
   "source": [
    "# Robin Hood:\n",
    "We are in a competition to win the archery contest in Sherwood. With our bow and arrows we shoot on a target and try to hit as close as possible to the center.\n",
    "\n",
    "The center of the target is represented by the values (0, 0) on the coordinate axes.\n",
    "\n",
    "![](images/arrows.jpg)\n",
    "\n",
    "## Goals:\n",
    "* data structures: lists, sets, tuples\n",
    "* logical operators: if-elif-else\n",
    "* loop: while/for\n",
    "* minimum (optional sorting)\n",
    "\n",
    "## Description:\n",
    "In the 2-dimensional space, a point can be defined by a pair of values that correspond to the horizontal coordinate (x) and the vertical coordinate (y). The space can be divided into 4 zones (quadrants): Q1, Q2, Q3, Q4. Whose single point of union is the point (0, 0).\n",
    "\n",
    "If a point is in Q1 both its x coordinate and the y are positive. I leave a link to wikipedia to familiarize yourself with these quadrants.\n",
    "\n",
    "https://en.wikipedia.org/wiki/Cartesian_coordinate_system\n",
    "\n",
    "https://en.wikipedia.org/wiki/Euclidean_distance\n",
    "\n",
    "## Shots\n",
    "```\n",
    "points = [(4, 5), (-0, 2), (4, 7), (1, -3), (3, -2), (4, 5),\n",
    "          (3, 2), (5, 7), (-5, 7), (2, 2), (-4, 5), (0, -2),\n",
    "          (-4, 7), (-1, 3), (-3, 2), (-4, -5), (-3, 2),\n",
    "          (5, 7), (5, 7), (2, 2), (9, 9), (-8, -9)]\n",
    "```\n",
    "\n",
    "## Tasks\n",
    "1. Robin Hood is famous for hitting an arrow with another arrow. Did you get it?\n",
    "2. Calculate how many arrows have fallen in each quadrant.\n",
    "3. Find the point closest to the center. Calculate its distance to the center. \n",
    "4. If the target has a radius of 9, calculate the number of arrows that must be picked up in the forest."
   ]
  },
  {
   "cell_type": "code",
   "execution_count": 42,
   "metadata": {},
   "outputs": [
    {
     "name": "stdout",
     "output_type": "stream",
     "text": [
      "Cible (4, 5) nombre de fois 2\n",
      "Cible (5, 7) nombre de fois 3\n",
      "Cible (-3, 2) nombre de fois 2\n",
      "Cible (2, 2) nombre de fois 2\n"
     ]
    }
   ],
   "source": [
    "# Variables\n",
    "\n",
    "points = [(4, 5), (-0, 2), (4, 7), (1, -3), (3, -2), (4, 5),\n",
    "          (3, 2), (5, 7), (-5, 7), (2, 2), (-4, 5), (0, -2),\n",
    "          (-4, 7), (-1, 3), (-3, 2), (-4, -5), (-3, 2),\n",
    "          (5, 7), (5, 7), (2, 2), (9, 9), (-8, -9)]\n",
    "# 1. Robin Hood is famous for hitting an arrow with another arrow. Did you get it?\n",
    "#ind=points.index((0,-2))\n",
    "#print(\"ind of (0,-2)\", ind)\n",
    "\n",
    "#indx=points.index((-0, 2))\n",
    "#print(\"ind of (-0, 2)\", indx)\n",
    "\n",
    "msdp=set(points)\n",
    "#print(msdp)\n",
    "#print(len(msdp))\n",
    "#print(len(points))\n",
    "\n",
    "for i in msdp:\n",
    "    count = points.count(i)   \n",
    "    #print(i, count)\n",
    "    if count>1:\n",
    "        print(\"Cible\", i, \"nombre de fois\", count)\n"
   ]
  },
  {
   "cell_type": "code",
   "execution_count": 43,
   "metadata": {},
   "outputs": [
    {
     "name": "stdout",
     "output_type": "stream",
     "text": [
      "Number of Arrows in a target [[2, (4, 5)], [3, (5, 7)], [2, (-3, 2)], [2, (2, 2)]]\n"
     ]
    }
   ],
   "source": [
    "NumberOfArrows=[[points.count(i),i] for i in msdp if points.count(i)>1]\n",
    "print(\"Number of Arrows in a target\", NumberOfArrows)"
   ]
  },
  {
   "cell_type": "code",
   "execution_count": 44,
   "metadata": {},
   "outputs": [
    {
     "name": "stdout",
     "output_type": "stream",
     "text": [
      "Number of arrows in quadrant1 = 11\n",
      "Number of arrows in quadrant3 = 2\n",
      "Number of arrows in quadrant2 = 2\n",
      "Number of arrows in quadrant4 = 7\n"
     ]
    }
   ],
   "source": [
    "# 2. Calculate how many arrows have fallen in each quadrant.\n",
    "arrows1=0\n",
    "arrows2=0\n",
    "arrows3=0\n",
    "arrows4=0\n",
    "#sort=sorted(msdp)\n",
    "  \n",
    "for a in msdp:# for x,y in msdp\n",
    "    #index=points.index(a)\n",
    "    count = points.count(a) \n",
    "    if a[0]>=0 and a[1]>=0:\n",
    "        arrows1+=count\n",
    "        #print(index,\"Q1\", a, count)\n",
    "\n",
    "    if a[0]>0 and a[1]<0:\n",
    "        \n",
    "        arrows2+=count      \n",
    "        #print(index, \"Q2\", a, count)\n",
    "\n",
    "    if a[0]<0 and a[1]<=0:\n",
    "        arrows3+=count\n",
    "        #print(index, \"Q3\", a, count)\n",
    "\n",
    "    if a[0]<=0 and a[1]>0:\n",
    "        arrows4+=count\n",
    "\n",
    "        #print(index,\"Q4\", a, count)     \n",
    "\n",
    "print(\"Number of arrows in quadrant1 =\", arrows1)\n",
    "print(\"Number of arrows in quadrant3 =\", arrows3)\n",
    "print(\"Number of arrows in quadrant2 =\", arrows2)\n",
    "print(\"Number of arrows in quadrant4 =\", arrows4)\n",
    "#print(sort)"
   ]
  },
  {
   "cell_type": "code",
   "execution_count": null,
   "metadata": {},
   "outputs": [],
   "source": []
  },
  {
   "cell_type": "code",
   "execution_count": 74,
   "metadata": {},
   "outputs": [
    {
     "name": "stdout",
     "output_type": "stream",
     "text": [
      "MIN DISTANCE is: [2.0, 2.0]\n",
      "How many points at min distance from 0.0: 2\n"
     ]
    }
   ],
   "source": [
    "# 3. Find the point closest to the center. Calculate its distance to the center\n",
    "# Defining a function that calculates the distance to the center can help.\n",
    "x=0\n",
    "y=0\n",
    "min_distance=0\n",
    "distance_list=[]\n",
    "list_min=[]\n",
    "def hypotenuse(x,y):#enumerate func\n",
    "    distance=(x**2+y**2)**0.5\n",
    "    \n",
    "    return (distance)\n",
    "\n",
    "for (x,y) in points:\n",
    "    distance =round(hypotenuse(x,y), 2)\n",
    "    distance_list.append(distance)\n",
    "\n",
    "for i in distance_list:\n",
    "    if i==min(distance_list):\n",
    "        list_min.append(i)\n",
    "        a=list_min.count(i)\n",
    "print(\"MIN DISTANCE is:\", list_min)\n",
    "\n",
    "print(\"How many points at min distance from 0.0:\", a)\n"
   ]
  },
  {
   "cell_type": "code",
   "execution_count": 34,
   "metadata": {},
   "outputs": [
    {
     "name": "stdout",
     "output_type": "stream",
     "text": [
      "[12.73, 12.04] How many arrows to pick up out of the forest: 2\n"
     ]
    }
   ],
   "source": [
    "# 4. If the target has a radius of 9, calculate the number of arrows that \n",
    "# must be picked up in the forest.\n",
    "r=9\n",
    "listOutside_9=[i for i in distance_list if i>r]\n",
    "print(listOutside_9, \"How many arrows to pick up out of the forest:\", len(listOutside_9))\n",
    "\n",
    "\n"
   ]
  },
  {
   "cell_type": "code",
   "execution_count": null,
   "metadata": {},
   "outputs": [],
   "source": [
    "#old code before comprehension\n",
    "list5=[]\n",
    "list6=[]\n",
    "\n",
    "for i in distance_list:\n",
    "    if i<=r:\n",
    "        list5.append(i)\n",
    "       \n",
    "    if i>r:\n",
    "        list6.append(i)\n",
    "print(\"Arrows inside the radius 9\",list5, len(list5))\n",
    "print(\"Arrows outside the radius 9\", list6, len(list6))"
   ]
  }
 ],
 "metadata": {
  "kernelspec": {
   "display_name": "Python 3",
   "language": "python",
   "name": "python3"
  },
  "language_info": {
   "codemirror_mode": {
    "name": "ipython",
    "version": 3
   },
   "file_extension": ".py",
   "mimetype": "text/x-python",
   "name": "python",
   "nbconvert_exporter": "python",
   "pygments_lexer": "ipython3",
   "version": "3.7.3"
  }
 },
 "nbformat": 4,
 "nbformat_minor": 2
}
