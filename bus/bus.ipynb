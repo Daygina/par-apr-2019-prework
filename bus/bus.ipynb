{
 "cells": [
  {
   "cell_type": "markdown",
   "metadata": {},
   "source": [
    "# Bus\n",
    "\n",
    "This bus has a passenger entry and exit control system to monitor the number of occupants it carries and thus detect when there is too high a capacity.\n",
    "\n",
    "At each stop the entry and exit of passengers is represented by a tuple consisting of two integer numbers.\n",
    "```\n",
    "bus_stop = (in, out)\n",
    "```\n",
    "The succession of stops is represented by a list of these tuples.\n",
    "```\n",
    "stops = [(in1, out1), (in2, out2), (in3, out3), (in4, out4)]\n",
    "```\n",
    "\n",
    "## Goals:\n",
    "* lists, tuples\n",
    "* while/for loops\n",
    "* minimum, maximum, length\n",
    "* average, standard deviation\n",
    "\n",
    "## Tasks\n",
    "1. Calculate the number of stops.\n",
    "2. Assign to a variable a list whose elements are the number of passengers at each stop (in-out),\n",
    "3. Find the maximum occupation of the bus.\n",
    "4. Calculate the average occupation. And the standard deviation.\n"
   ]
  },
  {
   "cell_type": "code",
   "execution_count": 3,
   "metadata": {},
   "outputs": [],
   "source": [
    "# variables\n"
   ]
  },
  {
   "cell_type": "code",
   "execution_count": 83,
   "metadata": {},
   "outputs": [
    {
     "name": "stdout",
     "output_type": "stream",
     "text": [
      "4\n"
     ]
    }
   ],
   "source": [
    "# 1. Calculate the number of stops.\n",
    "#bus_stop = (in, out)\n",
    "stops = [(20, 2), (3, 13), (14, 7), (5, 18)]\n",
    "#stops = [(in, out1), (in, out2), (in, out3), (in, out4)]\n",
    "print(len(stops))"
   ]
  },
  {
   "cell_type": "code",
   "execution_count": 84,
   "metadata": {},
   "outputs": [
    {
     "name": "stdout",
     "output_type": "stream",
     "text": [
      "Number of passengers in the bus = 18\n",
      "Number of passengers in the bus = 8\n",
      "Number of passengers in the bus = 15\n",
      "Number of passengers in the bus = 2\n"
     ]
    }
   ],
   "source": [
    "# 2. Assign a variable a list whose elements are the number of passengers in each stop: \n",
    "# Each item depends on the previous item in the list + in - out.\n",
    "#np - number of passengers\n",
    "np=0\n",
    "\n",
    "#bus_stop = (in, out)\n",
    "stops = [(20, 2), (3, 13), (14, 7), (5, 18)]\n",
    "#stops = [(in1, out1), (in2, out2), (in3, out3), (in4, out4)]\n",
    "for (a,b) in stops:\n",
    "    np+=a-b\n",
    "    print(\"Number of passengers in the bus =\", np)"
   ]
  },
  {
   "cell_type": "code",
   "execution_count": 85,
   "metadata": {},
   "outputs": [
    {
     "name": "stdout",
     "output_type": "stream",
     "text": [
      "sum of list element is :  20\n",
      "Average/Mean of stops elements is  0.5\n"
     ]
    }
   ],
   "source": [
    "# 4. Calculate the average occupation. And the standard deviation.\n",
    "#print(sum(c)/(n_stops))\n",
    "sum=0\n",
    "sum = sum +np\n",
    "average = sum / len(stops)\n",
    "print (\"sum of list element is : \", s)\n",
    "print (\"Average/Mean of stops elements is \", average )\n"
   ]
  },
  {
   "cell_type": "code",
   "execution_count": 68,
   "metadata": {},
   "outputs": [
    {
     "ename": "ValueError",
     "evalue": "max() arg is an empty sequence",
     "output_type": "error",
     "traceback": [
      "\u001b[0;31m---------------------------------------------------------------------------\u001b[0m",
      "\u001b[0;31mValueError\u001b[0m                                Traceback (most recent call last)",
      "\u001b[0;32m<ipython-input-68-388a317ba89d>\u001b[0m in \u001b[0;36masync-def-wrapper\u001b[0;34m()\u001b[0m\n\u001b[1;32m      4\u001b[0m     \u001b[0mprint\u001b[0m \u001b[0;34m(\u001b[0m\u001b[0;34m\"maximum occupation of the bus\"\u001b[0m\u001b[0;34m,\u001b[0m \u001b[0mc\u001b[0m\u001b[0;34m)\u001b[0m\u001b[0;34m\u001b[0m\u001b[0;34m\u001b[0m\u001b[0m\n",
      "\u001b[0;31mValueError\u001b[0m: max() arg is an empty sequence"
     ]
    }
   ],
   "source": [
    "# 3. Find the maximum occupation of the bus.\n",
    "#d=0\n",
    "    c == max(c)\n",
    "    print (\"maximum occupation of the bus\", c)  "
   ]
  },
  {
   "cell_type": "code",
   "execution_count": null,
   "metadata": {},
   "outputs": [],
   "source": []
  },
  {
   "cell_type": "code",
   "execution_count": null,
   "metadata": {},
   "outputs": [],
   "source": []
  },
  {
   "cell_type": "code",
   "execution_count": null,
   "metadata": {},
   "outputs": [],
   "source": []
  }
 ],
 "metadata": {
  "kernelspec": {
   "display_name": "Python 3",
   "language": "python",
   "name": "python3"
  },
  "language_info": {
   "codemirror_mode": {
    "name": "ipython",
    "version": 3
   },
   "file_extension": ".py",
   "mimetype": "text/x-python",
   "name": "python",
   "nbconvert_exporter": "python",
   "pygments_lexer": "ipython3",
   "version": "3.6.7"
  }
 },
 "nbformat": 4,
 "nbformat_minor": 2
}
