{
 "cells": [
  {
   "cell_type": "markdown",
   "metadata": {},
   "source": [
    "# Bus\n",
    "\n",
    "This bus has a passenger entry and exit control system to monitor the number of occupants it carries and thus detect when there is too high a capacity.\n",
    "\n",
    "At each stop the entry and exit of passengers is represented by a tuple consisting of two integer numbers.\n",
    "```\n",
    "bus_stop = (in, out)\n",
    "```\n",
    "The succession of stops is represented by a list of these tuples.\n",
    "```\n",
    "stops = [(in1, out1), (in2, out2), (in3, out3), (in4, out4)]\n",
    "```\n",
    "\n",
    "## Goals:\n",
    "* lists, tuples\n",
    "* while/for loops\n",
    "* minimum, maximum, length\n",
    "* average, standard deviation\n",
    "\n",
    "## Tasks\n",
    "1. Calculate the number of stops.\n",
    "2. Assign to a variable a list whose elements are the number of passengers at each stop (in-out),\n",
    "3. Find the maximum occupation of the bus.\n",
    "4. Calculate the average occupation. And the standard deviation.\n"
   ]
  },
  {
   "cell_type": "code",
   "execution_count": 23,
   "metadata": {},
   "outputs": [],
   "source": [
    "# variables\n",
    "occupacy=0\n",
    "#nm number of passangers\n",
    "a=(20,3,14,6)\n",
    "b=(2,13,7,18)\n",
    "stops = [(a[0], b[0]),(a[1], b[1]), (a[2],b[2]), (a[3],b[3])]"
   ]
  },
  {
   "cell_type": "code",
   "execution_count": 24,
   "metadata": {},
   "outputs": [
    {
     "name": "stdout",
     "output_type": "stream",
     "text": [
      "4\n"
     ]
    }
   ],
   "source": [
    "# 1. Calculate the number of stops.\n",
    "#bus_stop = (in, out)\n",
    "#stops = [(20, 2), (3, 13), (14, 7), (5, 18)]\n",
    "#stops = [(in, out1), (in, out2), (in, out3), (in, out4)]\n",
    "n=len(stops)\n",
    "print(n)"
   ]
  },
  {
   "cell_type": "code",
   "execution_count": 25,
   "metadata": {},
   "outputs": [],
   "source": [
    "\n",
    "puissance=0\n",
    "list_puissance=[]"
   ]
  },
  {
   "cell_type": "code",
   "execution_count": 26,
   "metadata": {},
   "outputs": [
    {
     "name": "stdout",
     "output_type": "stream",
     "text": [
      "0\n",
      "Number of passengers at each stop 18\n",
      "Number of passengers at each stop 8\n",
      "Number of passengers at each stop 15\n",
      "Number of passengers at each stop 3\n",
      "[18, 8, 15, 3]\n"
     ]
    }
   ],
   "source": [
    "# 2. Assign a variable a list whose elements are the number of passengers in each stop: \n",
    "# Each item depends on the previous item in the list + in - out.\n",
    "print(occupacy)\n",
    "occup_list=[]\n",
    "for x in stops:\n",
    "    occupacy=occupacy+x[0]-x[1]\n",
    "    print(\"Number of passengers at each stop\", occupacy)  \n",
    "    occup_list.append(occupacy)\n",
    "print(occup_list)"
   ]
  },
  {
   "cell_type": "code",
   "execution_count": 27,
   "metadata": {},
   "outputs": [
    {
     "name": "stdout",
     "output_type": "stream",
     "text": [
      "sum= 44\n",
      "Average 11\n",
      "u 18\n",
      "49\n",
      "[49]\n",
      "u 8\n",
      "9\n",
      "[49, 9]\n",
      "u 15\n",
      "16\n",
      "[49, 9, 16]\n",
      "u 3\n",
      "64\n",
      "[49, 9, 16, 64]\n",
      "sum= 138\n",
      "Standard deviation 5.873670062235365\n"
     ]
    }
   ],
   "source": [
    "# 4. Calculate the average occupation. And the standard deviation.\n",
    "\n",
    "s=sum(occup_list)\n",
    "print(\"sum=\", s)\n",
    "   \n",
    "mean=s//n\n",
    "print(\"Average\", mean)\n",
    "d=0\n",
    "sigma1=0\n",
    "\n",
    "dev_std = sum()\n",
    "\n",
    "for u in occup_list:\n",
    "    print(\"u\", u)\n",
    "    puissance=(u-mean)**2\n",
    "    print(puissance)\n",
    "    list_puissance.append(puissance)\n",
    "    print(list_puissance)\n",
    "\n",
    "d=sum(list_puissance)\n",
    "print(\"sum=\", d)\n",
    "    \n",
    "sigma1=(d/n)**0.5\n",
    "print(\"Standard deviation\", sigma1)"
   ]
  },
  {
   "cell_type": "code",
   "execution_count": 28,
   "metadata": {},
   "outputs": [
    {
     "name": "stdout",
     "output_type": "stream",
     "text": [
      "maximum occupation of the bus 18\n"
     ]
    }
   ],
   "source": [
    "# 3. Find the maximum occupation of the bus.\n",
    "c=0\n",
    "c = max(occup_list)\n",
    "print (\"maximum occupation of the bus\", c)  "
   ]
  },
  {
   "cell_type": "code",
   "execution_count": null,
   "metadata": {},
   "outputs": [],
   "source": []
  },
  {
   "cell_type": "code",
   "execution_count": null,
   "metadata": {},
   "outputs": [],
   "source": []
  },
  {
   "cell_type": "code",
   "execution_count": null,
   "metadata": {},
   "outputs": [],
   "source": []
  },
  {
   "cell_type": "code",
   "execution_count": null,
   "metadata": {},
   "outputs": [],
   "source": []
  }
 ],
 "metadata": {
  "kernelspec": {
   "display_name": "Python 3",
   "language": "python",
   "name": "python3"
  },
  "language_info": {
   "codemirror_mode": {
    "name": "ipython",
    "version": 3
   },
   "file_extension": ".py",
   "mimetype": "text/x-python",
   "name": "python",
   "nbconvert_exporter": "python",
   "pygments_lexer": "ipython3",
   "version": "3.7.3"
  }
 },
 "nbformat": 4,
 "nbformat_minor": 2
}
