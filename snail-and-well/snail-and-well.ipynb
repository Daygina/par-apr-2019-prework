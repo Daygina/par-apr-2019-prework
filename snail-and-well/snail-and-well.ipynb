{
 "cells": [
  {
   "cell_type": "markdown",
   "metadata": {},
   "source": [
    "# Snail and well\n",
    "\n",
    "A snail falls at the bottom of a 125 cm well. Each day the snail rises 30 cm. But at night, while sleeping, slides 20 cm because the walls are wet. How many days does it take to escape from the well?\n",
    "\n",
    "TIP: http://puzzles.nigelcoldwell.co.uk/sixtytwo.htm"
   ]
  },
  {
   "cell_type": "markdown",
   "metadata": {},
   "source": [
    "## Solución"
   ]
  },
  {
   "cell_type": "code",
   "execution_count": 2,
   "metadata": {},
   "outputs": [
    {
     "name": "stdout",
     "output_type": "stream",
     "text": [
      "Distance on day  1 before next day 10 cm\n",
      "30\n",
      "Distance on day  2 before next day 20 cm\n",
      "40\n",
      "Distance on day  3 before next day 30 cm\n",
      "50\n",
      "Distance on day  4 before next day 40 cm\n",
      "60\n",
      "Distance on day  5 before next day 50 cm\n",
      "70\n",
      "Distance on day  6 before next day 60 cm\n",
      "80\n",
      "Distance on day  7 before next day 70 cm\n",
      "90\n",
      "Distance on day  8 before next day 80 cm\n",
      "100\n",
      "Distance on day  9 before next day 90 cm\n",
      "110\n",
      "Distance on day  10 before next day 100 cm\n",
      "120\n",
      "Distance on day  11 before next day 110 cm\n",
      "130\n",
      "Snail is out when achieving 130 cm\n",
      "The day for being out 11\n",
      "Days = 11\n"
     ]
    }
   ],
   "source": [
    "# Assign problem data to variables with representative names\n",
    "# well height,daily advance, night retreat, accumulated distance\n",
    "well_height =125\n",
    "daily_advance =30\n",
    "night_retreat = 20\n",
    "\n",
    "# Assign 0 to the variable that represents the solution\n",
    "days=0\n",
    "\n",
    "distance=0\n",
    "# Write the code that solves the problem\n",
    "accumulated_distance=0\n",
    "\n",
    "accumulated_distance = daily_advance-night_retreat\n",
    "day_distance=0\n",
    "\n",
    "while day_distance < well_height:\n",
    "    day_distance = distance+daily_advance\n",
    "    distance+=accumulated_distance\n",
    "    days+=1\n",
    "     \n",
    "    print(\"Distance on day \", days, \"before next day\", distance, \"cm\")\n",
    "    print(day_distance)\n",
    "    if day_distance >= well_height:\n",
    "        \n",
    "        print(\"Snail is out when achieving\", day_distance, \"cm\")\n",
    "        print(\"The day for being out\", days)\n",
    "\n",
    "# Print the result with print('Days =', days)\n",
    "\n",
    "print(\"Days =\", days)\n"
   ]
  },
  {
   "cell_type": "markdown",
   "metadata": {},
   "source": [
    "## Goals\n",
    "\n",
    "1. Treatment of variables\n",
    "2. Use of loop **while**\n",
    "3. Use of conditional **if-else**\n",
    "4. Print in console"
   ]
  },
  {
   "cell_type": "markdown",
   "metadata": {},
   "source": [
    "## Bonus\n",
    "The distance traveled by the snail is now defined by a list.\n",
    "```\n",
    "advance_cm = [30, 21, 33, 77, 44, 45, 23, 45, 12, 34, 55]\n",
    "```\n",
    "How long does it take to raise the well?\n",
    "\n",
    "What is its maximum displacement in one day? And its minimum?\n",
    "\n",
    "What is its average speed during the day?\n",
    "\n",
    "What is the standard deviation of its displacement during the day?"
   ]
  },
  {
   "cell_type": "code",
   "execution_count": 1,
   "metadata": {},
   "outputs": [],
   "source": [
    "# Assign problem data to variables with representative names\n",
    "# well height, daily advance, night retreat, accumulated distance\n",
    "\n",
    "\n",
    "# Assign 0 to the variable that represents the solution\n",
    "\n",
    "\n",
    "# Write the code that solves the problem\n",
    "\n",
    "\n",
    "\n",
    "# Print the result with print('Days =', days)\n",
    "\n",
    "\n",
    "# What is its maximum displacement in a day? And its minimum?\n",
    "\n",
    "\n",
    "\n",
    "# What is its average progress?\n",
    "\n",
    "\n",
    "# What is the standard deviation of your displacement during the day?\n",
    "\n"
   ]
  },
  {
   "cell_type": "code",
   "execution_count": null,
   "metadata": {},
   "outputs": [],
   "source": []
  }
 ],
 "metadata": {
  "kernelspec": {
   "display_name": "Python 3",
   "language": "python",
   "name": "python3"
  },
  "language_info": {
   "codemirror_mode": {
    "name": "ipython",
    "version": 3
   },
   "file_extension": ".py",
   "mimetype": "text/x-python",
   "name": "python",
   "nbconvert_exporter": "python",
   "pygments_lexer": "ipython3",
   "version": "3.6.7"
  }
 },
 "nbformat": 4,
 "nbformat_minor": 2
}
